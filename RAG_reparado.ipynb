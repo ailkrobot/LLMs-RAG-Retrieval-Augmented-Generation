{
  "nbformat": 4,
  "nbformat_minor": 0,
  "metadata": {
    "colab": {
      "provenance": [],
      "authorship_tag": "ABX9TyPKpDZcGrZgQbOwimAc88Jc",
      "include_colab_link": true
    },
    "kernelspec": {
      "name": "python3",
      "display_name": "Python 3"
    },
    "language_info": {
      "name": "python"
    }
  },
  "cells": [
    {
      "cell_type": "markdown",
      "metadata": {
        "id": "view-in-github",
        "colab_type": "text"
      },
      "source": [
        "<a href=\"https://colab.research.google.com/github/ailkrobot/RAG-Retrieval-Augmented-Generation/blob/main/RAG_reparado.ipynb\" target=\"_parent\"><img src=\"https://colab.research.google.com/assets/colab-badge.svg\" alt=\"Open In Colab\"/></a>"
      ]
    },
    {
      "cell_type": "code",
      "execution_count": null,
      "metadata": {
        "id": "OvQZTrZDUeaD"
      },
      "outputs": [],
      "source": []
    },
    {
      "cell_type": "markdown",
      "source": [
        "# RAG – Retrieval-Augmented Generation\n",
        "Este es un tutorial para aplicar el concepto de RAG usado para LLMs.\n",
        "\n"
      ],
      "metadata": {
        "id": "kPeuCNowUgPX"
      }
    },
    {
      "cell_type": "markdown",
      "source": [
        "Este código es una implementación simple de RAG sin LangChain, usando directamente chromadb y sentence-transformers. Vamos línea por línea:"
      ],
      "metadata": {
        "id": "uh5ClycxYHaR"
      }
    },
    {
      "cell_type": "markdown",
      "source": [
        "🧩 Objetivo del código:\n",
        "Crear una base de datos vectorial usando ChromaDB y SentenceTransformers, para almacenar frases técnicas con embeddings, y luego poder hacer búsquedas semánticas."
      ],
      "metadata": {
        "id": "XflnNAbCYOsz"
      }
    },
    {
      "cell_type": "markdown",
      "source": [
        "Vamos instalar Chromadb que es una base de datos de vectores open source para almacenar e indexar embeddings"
      ],
      "metadata": {
        "id": "jn5Gxne_YcQ6"
      }
    },
    {
      "cell_type": "code",
      "source": [
        "pip install chromadb sentence-transformers\n"
      ],
      "metadata": {
        "id": "g_vTOe8FUtVn",
        "collapsed": true
      },
      "execution_count": null,
      "outputs": []
    },
    {
      "cell_type": "markdown",
      "source": [
        "Aqui ya importamos esta Chromadb y Transformes, luego utilizaremos la llamada con clients, utilizamos el modelo predeterminado y enviaremos los textos indicados."
      ],
      "metadata": {
        "id": "loEUM_IdWpe9"
      }
    },
    {
      "cell_type": "markdown",
      "source": [
        "🔹 Importar las dos librerías clave:\n",
        "*   chromadb para almacenar y consultar vectores semánticos.\n",
        "*   SentenceTransformer para generar embeddings de frases.\n",
        "\n",
        "\n",
        "\n"
      ],
      "metadata": {
        "id": "GJCxboOpYinO"
      }
    },
    {
      "cell_type": "code",
      "source": [
        "import chromadb\n",
        "from sentence_transformers import SentenceTransformer"
      ],
      "metadata": {
        "id": "LO8ZN8XFY0M8"
      },
      "execution_count": null,
      "outputs": []
    },
    {
      "cell_type": "markdown",
      "source": [
        "🔹 Crea un cliente local de ChromaDB (puede correr en memoria o en disco, según la configuración)."
      ],
      "metadata": {
        "id": "WansjmJ3YoQ1"
      }
    },
    {
      "cell_type": "code",
      "source": [
        "client = chromadb.Client()\n"
      ],
      "metadata": {
        "id": "6O2KbCGkY16_"
      },
      "execution_count": null,
      "outputs": []
    },
    {
      "cell_type": "markdown",
      "source": [
        "🔹 Crea una colección de vectores llamada \"docs\", como si fuera una tabla en una base de datos, donde se guardan documentos y sus embeddings."
      ],
      "metadata": {
        "id": "K88uRiNxYwGI"
      }
    },
    {
      "cell_type": "code",
      "source": [
        "collection = client.create_collection(\"docs\")"
      ],
      "metadata": {
        "id": "AV7VzrmRYh6F"
      },
      "execution_count": null,
      "outputs": []
    },
    {
      "cell_type": "markdown",
      "source": [
        "Carga un modelo preentrenado de** HuggingFace** que transforma texto en vectores de forma eficiente (ligero y rápido).\n",
        "**\"all-MiniLM-L6-v2\"** es ideal para tareas de recuperación semántica."
      ],
      "metadata": {
        "id": "Y1OPtxcXZHoz"
      }
    },
    {
      "cell_type": "code",
      "source": [
        "model = SentenceTransformer(\"all-MiniLM-L6-v2\")"
      ],
      "metadata": {
        "id": "_EmYMRRvZPT7"
      },
      "execution_count": null,
      "outputs": []
    },
    {
      "cell_type": "markdown",
      "source": [
        "🔹 Crea una lista de frases que vamos a almacenar y poder buscar luego.\n",
        "Esto simula que tienes documentos técnicos breves."
      ],
      "metadata": {
        "id": "9pJ-k-SPZbu1"
      }
    },
    {
      "cell_type": "code",
      "source": [
        "texts = [\"La inteligencia artificial es fascinante.\", \"El control robótico es crucial.\"]\n"
      ],
      "metadata": {
        "id": "Q7a4kACeZgMf"
      },
      "execution_count": null,
      "outputs": []
    },
    {
      "cell_type": "markdown",
      "source": [
        "🔹 Convierte cada frase en un vector numérico (embedding).\n",
        "Este es el paso fundamental para búsqueda semántica: frases similares tendrán vectores similares."
      ],
      "metadata": {
        "id": "HASLbkA-ZqCO"
      }
    },
    {
      "cell_type": "code",
      "source": [
        "embeddings = model.encode(texts)"
      ],
      "metadata": {
        "id": "wC0KhziNZ1bK"
      },
      "execution_count": null,
      "outputs": []
    },
    {
      "cell_type": "markdown",
      "source": [
        "🔹 Recorre cada frase:\n",
        "\n",
        "Asigna un id como \"0\", \"1\", etc.\n",
        "Inserta el texto y su embedding en la colección de Chroma."
      ],
      "metadata": {
        "id": "Y1SH9yXYZ170"
      }
    },
    {
      "cell_type": "code",
      "source": [
        "for i, text in enumerate(texts):\n",
        "    collection.add(documents=[text], ids=[str(i)], embeddings=[embeddings[i]])"
      ],
      "metadata": {
        "id": "xvUNLCMqZrC_"
      },
      "execution_count": null,
      "outputs": []
    },
    {
      "cell_type": "markdown",
      "source": [
        "💡 Esto te deja lista una colección vectorial donde luego podrás hacer búsquedas por similitud, por ejemplo: \"¿Dónde se habla de robótica?\" y obtener \"El control robótico es crucial.\"."
      ],
      "metadata": {
        "id": "9gzznYLkaKUE"
      }
    },
    {
      "cell_type": "markdown",
      "source": [
        "EL programa completo lo puedes ver asi:"
      ],
      "metadata": {
        "id": "s_G2RbDZaSHM"
      }
    },
    {
      "cell_type": "code",
      "source": [
        "import chromadb\n",
        "from sentence_transformers import SentenceTransformer\n",
        "\n",
        "client = chromadb.Client()\n",
        "collection = client.create_collection(\"docs\")\n",
        "\n",
        "model = SentenceTransformer(\"all-MiniLM-L6-v2\")\n",
        "\n",
        "texts = [\"La inteligencia artificial es fascinante.\", \"El control robótico es crucial.\"]\n",
        "embeddings = model.encode(texts)\n",
        "\n",
        "for i, text in enumerate(texts):\n",
        "    collection.add(documents=[text], ids=[str(i)], embeddings=[embeddings[i]])\n",
        "\n"
      ],
      "metadata": {
        "id": "UvsapT3VWmPN"
      },
      "execution_count": null,
      "outputs": []
    },
    {
      "cell_type": "markdown",
      "source": [
        "Luego verificaremos con una busqueda deseada o requerimientos necesarios"
      ],
      "metadata": {
        "id": "KG5O9pgFXP0A"
      }
    },
    {
      "cell_type": "code",
      "source": [
        "query = model.encode(\"¿Qué es el control?\")\n",
        "results = collection.query(query_embeddings=[query], n_results=1)\n",
        "print(results)"
      ],
      "metadata": {
        "colab": {
          "base_uri": "https://localhost:8080/"
        },
        "id": "73KS8tPNXYJw",
        "outputId": "7f0b5b2f-860f-4c03-9b0b-499dcaeabe63"
      },
      "execution_count": null,
      "outputs": [
        {
          "output_type": "stream",
          "name": "stdout",
          "text": [
            "{'ids': [['1']], 'embeddings': None, 'documents': [['El control robótico es crucial.']], 'uris': None, 'included': ['metadatas', 'documents', 'distances'], 'data': None, 'metadatas': [[None]], 'distances': [[0.5939409732818604]]}\n"
          ]
        }
      ]
    },
    {
      "cell_type": "code",
      "source": [
        "query = model.encode(\"¿Qué opinas de la inteligencia artificial?\")\n",
        "results = collection.query(query_embeddings=[query], n_results=1)\n",
        "print(results)"
      ],
      "metadata": {
        "colab": {
          "base_uri": "https://localhost:8080/"
        },
        "id": "NlvRsb5PXdt1",
        "outputId": "b1a26165-7721-457a-b34e-e9113d96cdb4"
      },
      "execution_count": null,
      "outputs": [
        {
          "output_type": "stream",
          "name": "stdout",
          "text": [
            "{'ids': [['0']], 'embeddings': None, 'documents': [['La inteligencia artificial es fascinante.']], 'uris': None, 'included': ['metadatas', 'documents', 'distances'], 'data': None, 'metadatas': [[None]], 'distances': [[0.3903503119945526]]}\n"
          ]
        }
      ]
    },
    {
      "cell_type": "code",
      "source": [
        "query = model.encode(\"¿Qué opinas del control?\")\n",
        "results = collection.query(query_embeddings=[query], n_results=1)\n",
        "print(results)"
      ],
      "metadata": {
        "colab": {
          "base_uri": "https://localhost:8080/"
        },
        "id": "fCqXUQ8pXqpI",
        "outputId": "6c95bfa5-3322-490b-defb-795dc3d1ca79"
      },
      "execution_count": null,
      "outputs": [
        {
          "output_type": "stream",
          "name": "stdout",
          "text": [
            "{'ids': [['1']], 'embeddings': None, 'documents': [['El control robótico es crucial.']], 'uris': None, 'included': ['metadatas', 'documents', 'distances'], 'data': None, 'metadatas': [[None]], 'distances': [[0.8778367042541504]]}\n"
          ]
        }
      ]
    },
    {
      "cell_type": "markdown",
      "source": [
        "Creamos un  CLI (Command Line Interface) que es una interfaz basada en texto que se usa desde la línea de comandos (terminal o consola), donde tú escribes comandos y el programa responde con texto.\n",
        "$ python buscador.py\n",
        "👉 Ingresa tu pregunta: ¿Qué se dice sobre inteligencia artificial?\n",
        "🔍 Resultado: La inteligencia artificial es fascinante.\n",
        "✅ Ventajas de un CLI:\n",
        "✅ Rápido de desarrollar (ideal para prototipos).\n",
        "\n",
        "✅ Ligero, sin necesidad de interfaz gráfica.\n",
        "\n",
        "✅ Perfecto para ejecutar scripts técnicos, pruebas o automatizaciones.\n",
        "🧠 En este proyecto RAG:\n",
        "Podemos crear un CLI donde tú escribes preguntas y el sistema busca en tu base de documentación técnica (Chroma + embeddings) para darte una respuesta.\n",
        "Aqui un ejemplo funcional de un CLI en Python que hace búsqueda semántica con ChromaDB y sentence-transformers. Este CLI permite consultar frases almacenadas en tu colección de documentación técnica."
      ],
      "metadata": {
        "id": "w4DsDVDpcT2T"
      }
    },
    {
      "cell_type": "markdown",
      "source": [
        "✅ ¿Qué hace el siguiente script?\n",
        "\n",
        "\n",
        "Carga tus textos técnicos.\n",
        "\n",
        "-Los convierte en embeddings y los guarda en ChromaDB.\n",
        "\n",
        "-Te permite hacer preguntas desde consola.\n",
        "\n",
        "-Usa sentence-transformers para convertir la pregunta en embedding.\n",
        "\n",
        "-Busca el documento más parecido y te lo muestra.\n",
        "\n",
        "\n"
      ],
      "metadata": {
        "id": "GYRZqJHec1LJ"
      }
    },
    {
      "cell_type": "code",
      "source": [
        "import chromadb\n",
        "from sentence_transformers import SentenceTransformer\n",
        "\n",
        "# Inicializar cliente y colección\n",
        "client = chromadb.Client()\n",
        "collection = client.create_collection(\"docs2\")\n",
        "\n",
        "# Modelo de embeddings\n",
        "model = SentenceTransformer(\"all-MiniLM-L6-v2\")\n",
        "\n",
        "# Documentos técnicos que quieres almacenar\n",
        "texts = [\n",
        "    \"La inteligencia artificial es fascinante.\",\n",
        "    \"El control robótico es crucial.\",\n",
        "    \"Los agentes inteligentes ayudan en la automatización.\",\n",
        "    \"Los sensores son vitales en robótica.\",\n",
        "    \"Python es ampliamente usado en IA.\"\n",
        "]\n",
        "\n",
        "# Generar embeddings y almacenar en ChromaDB\n",
        "embeddings = model.encode(texts)\n",
        "for i, text in enumerate(texts):\n",
        "    collection.add(documents=[text], ids=[str(i)], embeddings=[embeddings[i]])\n",
        "\n",
        "# 🧠 CLI interactivo\n",
        "print(\"🔍 Buscador inteligente de documentación técnica\")\n",
        "print(\"Escribe tu pregunta (o 'salir' para terminar):\\n\")\n",
        "\n",
        "while True:\n",
        "    pregunta = input(\"👉 Tu pregunta: \")\n",
        "    if pregunta.lower() in [\"salir\", \"exit\", \"q\"]:\n",
        "        print(\"👋 ¡Hasta luego!\")\n",
        "        break\n",
        "\n",
        "    query_embedding = model.encode(pregunta)\n",
        "    resultado = collection.query(query_embeddings=[query_embedding], n_results=1)\n",
        "\n",
        "    print(\"\\n🧠 Resultado más relevante:\")\n",
        "    print(f\"📄 {resultado['documents'][0][0]}\\n\")\n"
      ],
      "metadata": {
        "colab": {
          "base_uri": "https://localhost:8080/"
        },
        "id": "jABQhdTAbfN0",
        "outputId": "41b86ac9-89d2-414c-8bc8-c321145d7ea2"
      },
      "execution_count": null,
      "outputs": [
        {
          "output_type": "stream",
          "name": "stdout",
          "text": [
            "🔍 Buscador inteligente de documentación técnica\n",
            "Escribe tu pregunta (o 'salir' para terminar):\n",
            "\n",
            "👉 Tu pregunta: que sabes de python\n",
            "\n",
            "🧠 Resultado más relevante:\n",
            "📄 Python es ampliamente usado en IA.\n",
            "\n",
            "👉 Tu pregunta: que sabes de IA\n",
            "\n",
            "🧠 Resultado más relevante:\n",
            "📄 Python es ampliamente usado en IA.\n",
            "\n",
            "👉 Tu pregunta: y que sobre sensores\n",
            "\n",
            "🧠 Resultado más relevante:\n",
            "📄 Los sensores son vitales en robótica.\n",
            "\n",
            "👉 Tu pregunta: salir\n",
            "👋 ¡Hasta luego!\n"
          ]
        }
      ]
    },
    {
      "cell_type": "markdown",
      "source": [
        "Aqui el programa consigue leer desde un archivo.\n",
        "\n",
        "📁 Paso 1: **Prepara tu archivo**\n",
        "\n",
        "**Crea un archivo llamado por ejemplo:**\n",
        "\n",
        "docs/tecnologia.txt\n",
        "(con contenido como este):\n",
        "\n",
        "-La inteligencia artificial está revolucionando muchas industrias.\n",
        "\n",
        "-El control robótico se usa en fábricas automatizadas.\n",
        "\n",
        "-Los sensores permiten que los robots perciban su entorno.\n",
        "\n",
        "-El lenguaje Python es muy popular para programación en IA.\n",
        "\n",
        "▶️ **¿Cómo ejecutarlo?**\n",
        "\n",
        "Asegúrate de tener esta estructura:\n",
        "\n",
        "Copiar\n",
        "\n",
        "Editar\n",
        "\n",
        "📂 proyecto/\n",
        "\n",
        "├─ buscador.py\n",
        "\n",
        "└─ docs/\n",
        "\n",
        "    └─ tecnologia.txt\n",
        "    \n",
        "Ejecuta con:\n",
        "\n",
        "python buscador.py\n",
        "\n"
      ],
      "metadata": {
        "id": "DcUAVblkeSDF"
      }
    },
    {
      "cell_type": "code",
      "source": [
        "import chromadb\n",
        "from sentence_transformers import SentenceTransformer\n",
        "\n",
        "# 1. Leer el archivo de texto\n",
        "def cargar_textos(ruta_archivo):\n",
        "    with open(ruta_archivo, \"r\", encoding=\"utf-8\") as f:\n",
        "        lineas = [line.strip() for line in f.readlines() if line.strip()]\n",
        "    return lineas\n",
        "\n",
        "# 2. Inicializar cliente y colección\n",
        "client = chromadb.Client()\n",
        "collection = client.create_collection(\"docs\")\n",
        "\n",
        "# 3. Cargar textos desde archivo\n",
        "ruta = \"docs/tecnologia.txt\"\n",
        "textos = cargar_textos(ruta)\n",
        "\n",
        "# 4. Embeddings con modelo\n",
        "model = SentenceTransformer(\"all-MiniLM-L6-v2\")\n",
        "embeddings = model.encode(textos)\n",
        "\n",
        "# 5. Insertar en Chroma\n",
        "for i, texto in enumerate(textos):\n",
        "    collection.add(documents=[texto], ids=[str(i)], embeddings=[embeddings[i]])\n",
        "\n",
        "# 6. CLI interactivo\n",
        "print(\"🔍 Buscador de documentación técnica\")\n",
        "print(\"Escribe tu pregunta (o 'salir'):\\n\")\n",
        "\n",
        "while True:\n",
        "    pregunta = input(\"👉 Tu pregunta: \")\n",
        "    if pregunta.lower() in [\"salir\", \"exit\", \"q\"]:\n",
        "        print(\"👋 ¡Hasta luego!\")\n",
        "        break\n",
        "\n",
        "    query_embedding = model.encode(pregunta)\n",
        "    resultado = collection.query(query_embeddings=[query_embedding], n_results=1)\n",
        "\n",
        "    print(\"\\n🧠 Resultado más relevante:\")\n",
        "    print(f\"📄 {resultado['documents'][0][0]}\\n\")\n"
      ],
      "metadata": {
        "id": "XgSoZyPteTyn"
      },
      "execution_count": null,
      "outputs": []
    },
    {
      "cell_type": "markdown",
      "source": [
        "🧠 Este CLI ahora te permite:\n",
        "\n",
        "-Leer un archivo con frases o párrafos técnicos.\n",
        "\n",
        "-Almacenar y vectorizar el contenido.\n",
        "\n",
        "-Consultar semánticamente desde terminal"
      ],
      "metadata": {
        "id": "WbnTTjcSe3at"
      }
    },
    {
      "cell_type": "markdown",
      "source": [
        "Para mas informaciones visita mi blog de Agentes IA:\n",
        "\n",
        " https://ailkrobotcontrol.com/rag-retrieval-augmented-generation-la-guia-definitiva-para-mejorar-modelos-de-ia-en-2025/"
      ],
      "metadata": {
        "id": "QgbqUHalmaNm"
      }
    }
  ]
}